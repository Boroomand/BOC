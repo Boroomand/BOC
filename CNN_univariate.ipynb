{
 "cells": [
  {
   "cell_type": "code",
   "execution_count": null,
   "metadata": {},
   "outputs": [],
   "source": [
    "import numpy as np\n",
    "import pandas as pd \n",
    "import random\n",
    "\n",
    "dd= pd.read_csv(\"/home/dev/time_series_model/GDP.csv\")\n",
    "print(dd.shape)\n",
    "\n",
    "in_seq1 = np.random.rand(11,1)\n",
    "in_seq2 = np.random.rand(11,1)\n",
    "\n",
    "in_seq1 = np.around(in_seq1 , decimals=2)\n",
    "in_seq2 = np.around(in_seq1 , decimals=2)\n",
    "\n",
    "data = np.concatenate((in_seq1 , in_seq2) , axis =0)\n",
    "data = np.reshape(data, (len(in_seq1),2))\n",
    "out = np.sum(data ,1)\n",
    "print(data)\n",
    "print(out)\n"
   ]
  },
  {
   "cell_type": "code",
   "execution_count": null,
   "metadata": {},
   "outputs": [],
   "source": [
    "from __future__ import print_function, division\n",
    "import numpy as np\n",
    "import pandas as pd\n",
    "import matplotlib.pyplot as plt\n",
    "from keras.layers import Conv1D, Input, Add, Activation, Dropout\n",
    "from keras.models import Sequential, Model\n",
    "from keras.regularizers import l2\n",
    "from keras.initializers import TruncatedNormal\n",
    "from keras.layers.advanced_activations import LeakyReLU, ELU\n",
    "from keras import optimizers"
   ]
  },
  {
   "cell_type": "code",
   "execution_count": null,
   "metadata": {},
   "outputs": [],
   "source": [
    "def DC_CNN_Block(nb_filter, filter_length, dilation, l2_layer_reg):\n",
    "    def f(input_):\n",
    "        \n",
    "        residual =    input_\n",
    "        \n",
    "        layer_out =   Conv1D(filters=nb_filter, kernel_size=filter_length, \n",
    "                      dilation_rate=dilation, \n",
    "                      activation='linear', padding='causal', use_bias=False,\n",
    "                      kernel_initializer=TruncatedNormal(mean=0.0, stddev=0.05, \n",
    "                      seed=42), kernel_regularizer=l2(l2_layer_reg))(input_)\n",
    "                    \n",
    "        layer_out =   Activation('selu')(layer_out)\n",
    "        \n",
    "        skip_out =    Conv1D(1,1, activation='linear', use_bias=False, \n",
    "                      kernel_initializer=TruncatedNormal(mean=0.0, stddev=0.05, \n",
    "                      seed=42), kernel_regularizer=l2(l2_layer_reg))(layer_out)\n",
    "        \n",
    "        network_in =  Conv1D(1,1, activation='linear', use_bias=False, \n",
    "                      kernel_initializer=TruncatedNormal(mean=0.0, stddev=0.05, \n",
    "                      seed=42), kernel_regularizer=l2(l2_layer_reg))(layer_out)\n",
    "                      \n",
    "        network_out = Add()([residual, network_in])\n",
    "        \n",
    "        return network_out, skip_out\n",
    "    \n",
    "    return f\n",
    "\n",
    "\n",
    "def DC_CNN_Model(length):\n",
    "    \n",
    "    input = Input(shape=(length,2))\n",
    "    \n",
    "    l1a, l1b = DC_CNN_Block(6,2,1,0.001)(input)    \n",
    "    l2a, l2b = DC_CNN_Block(6,2,2,0.001)(l1a) \n",
    "    l3a, l3b = DC_CNN_Block(6,2,4,0.001)(l2a)\n",
    "    l4a, l4b = DC_CNN_Block(6,2,8,0.001)(l3a)\n",
    "    l5a, l5b = DC_CNN_Block(6,2,16,0.001)(l4a)\n",
    "    l6a, l6b = DC_CNN_Block(6,2,32,0.001)(l5a)\n",
    "    l6b = Dropout(0.8)(l6b) #dropout used to limit influence of earlier data\n",
    "    l7a, l7b = DC_CNN_Block(6,2,64,0.001)(l6a)\n",
    "    l7b = Dropout(0.8)(l7b) #dropout used to limit influence of earlier data\n",
    "    \n",
    "    l8 =   Add()([l1b, l2b, l3b, l4b, l5b, l6b, l7b])\n",
    "    \n",
    "    l9 =   Activation('relu')(l8)\n",
    "           \n",
    "    l21 =  Conv1D(1,1, activation='linear', use_bias=False, \n",
    "           kernel_initializer=TruncatedNormal(mean=0.0, stddev=0.05, seed=42),\n",
    "           kernel_regularizer=l2(0.001))(l9)\n",
    "\n",
    "    model = Model(input=input, output=l21)\n",
    "    \n",
    "    adam = optimizers.Adam(lr=0.00075, beta_1=0.9, beta_2=0.999, epsilon=None, \n",
    "                           decay=0.0, amsgrad=False)\n",
    "\n",
    "    model.compile(loss='mae', optimizer=adam, metrics=['mse'])\n",
    "    \n",
    "    return model\n",
    "\n",
    "\n",
    "def evaluate_timeseries(timeseries,y_data, predict_size):\n",
    "    # timeseries input is 1-D numpy array\n",
    "    # forecast_size is the forecast horizon\n",
    "    \n",
    "    #timeseries = timeseries[~pd.isna(timeseries)]\n",
    "    \n",
    "\n",
    "    length = len(timeseries)-1\n",
    "\n",
    "    timeseries = np.atleast_2d(np.asarray(timeseries))\n",
    "    if timeseries.shape[0] == 1:\n",
    "        timeseries = timeseries.T \n",
    "\n",
    "    model = DC_CNN_Model(length)\n",
    "    print('\\n\\nModel with input size {}, output size {}'.\n",
    "                                format(model.input_shape, model.output_shape))\n",
    "    \n",
    "    model.summary()\n",
    "    \n",
    "    X = timeseries[:-1].reshape(1,length,2)\n",
    "    #y = timeseries[1:].reshape(1,length,2)\n",
    "    y= np.array(y_data[:-1]).reshape(1,length,1)\n",
    "    print(\"X:\" ,X)\n",
    "    print(\"\\n y:\",y)\n",
    "    model.fit(X, y, epochs=300)\n",
    "    \n",
    "    pred_array = np.zeros(predict_size).reshape(1,predict_size,1)\n",
    "    X_test_initial = timeseries[1:].reshape(1,length,2)\n",
    "    \n",
    "    print(\"shape test =\",X_test_initial)\n",
    "    #pred_array = model.predict(X_test_initial) if predictions of training samples required\n",
    "    \n",
    "    #forecast is created by predicting next future value based on previous predictions\n",
    "    pred_array[:,0,:] = model.predict(X_test_initial)[:,-1:,:]\n",
    "    print(\"predict array=\",pred_array)\n",
    "    \n",
    "    for i in range(predict_size-1):\n",
    "        new_data = np.append(X_test_initial[:,i+1:,:],pred_array[:,:i+1,:])\n",
    "        print(new_data)\n",
    "        pred_array[:,i+1:,:] = model.predict(new_data).reshape(1,length,1)[:,-1:,:]\n",
    "        \n",
    "                                             \n",
    "   \n",
    "    return pred_array.flatten()\n"
   ]
  },
  {
   "cell_type": "code",
   "execution_count": null,
   "metadata": {},
   "outputs": [],
   "source": [
    "evaluate_timeseries(data,out,1)"
   ]
  },
  {
   "cell_type": "code",
   "execution_count": null,
   "metadata": {},
   "outputs": [],
   "source": [
    "print(data)"
   ]
  },
  {
   "cell_type": "code",
   "execution_count": null,
   "metadata": {},
   "outputs": [],
   "source": [
    "data.shape"
   ]
  },
  {
   "cell_type": "code",
   "execution_count": null,
   "metadata": {},
   "outputs": [],
   "source": [
    "data[:-1].shape"
   ]
  },
  {
   "cell_type": "code",
   "execution_count": null,
   "metadata": {},
   "outputs": [],
   "source": [
    "data[1:].shape"
   ]
  },
  {
   "cell_type": "code",
   "execution_count": null,
   "metadata": {},
   "outputs": [],
   "source": []
  }
 ],
 "metadata": {
  "kernelspec": {
   "display_name": "py36",
   "language": "python",
   "name": "py36"
  },
  "language_info": {
   "codemirror_mode": {
    "name": "ipython",
    "version": 3
   },
   "file_extension": ".py",
   "mimetype": "text/x-python",
   "name": "python",
   "nbconvert_exporter": "python",
   "pygments_lexer": "ipython3",
   "version": "3.6.8"
  }
 },
 "nbformat": 4,
 "nbformat_minor": 2
}
